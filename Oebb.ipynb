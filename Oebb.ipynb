{
 "cells": [
  {
   "cell_type": "code",
   "execution_count": 12,
   "id": "f11a5202-e00c-4517-87ef-e7abd640021a",
   "metadata": {
    "tags": []
   },
   "outputs": [],
   "source": [
    "import pdfplumber\n",
    "import re\n",
    "import pandas as pd\n",
    "import os\n",
    "import argparse\n"
   ]
  },
  {
   "cell_type": "code",
   "execution_count": 2,
   "id": "aa1d69d5-488a-4b57-8adb-152f1954712f",
   "metadata": {},
   "outputs": [],
   "source": [
    "def extract_ticket_info(pdf_path):\n",
    "    data = []\n",
    "    with pdfplumber.open(pdf_path) as pdf:\n",
    "        for page in pdf.pages:\n",
    "            text = page.extract_text()\n",
    "            if text:\n",
    "                departure_location = re.search(r'Hinfahrt:\\n(?:Gültig ab: .+)?\\n([^,]+),', text)\n",
    "                arrival_location = re.search(r'Freiburg\\(Breisgau\\) Hbf', text)\n",
    "                departure_time = re.search(r'Halt Datum Zeit Gleis Produkte Reservierung\\n([^ ]+ \\d{2}:\\d{2})', text)\n",
    "                arrival_time = re.search(r'Freiburg\\(Breisgau\\) Hbf .+ \\d{2}:\\d{2}', text)\n",
    "                cost = re.search(r'ICE Fahrkarte .+ (\\d+,\\d{2}€)', text)\n",
    "                \n",
    "                if departure_location and arrival_location and departure_time and arrival_time and cost:\n",
    "                    data.append({\n",
    "                        'Departure Location': departure_location.group(1),\n",
    "                        'Arrival Location': arrival_location.group(0),\n",
    "                        'Departure Time': departure_time.group(1),\n",
    "                        'Arrival Time': arrival_time.group(0).split()[-1],\n",
    "                        'Cost': cost.group(1)\n",
    "                    })\n",
    "\n",
    "    df = pd.DataFrame(data)\n",
    "    return df"
   ]
  },
  {
   "cell_type": "code",
   "execution_count": 3,
   "id": "0b8cc121-0a99-466e-96ad-cf3d0b8f92c7",
   "metadata": {},
   "outputs": [],
   "source": [
    "pdf_path = 'C:\\\\Users\\\\freed\\\\develop\\\\DB_OEBB_ticket\\\\ÖBB\\\\OEBBTicket-1377389263795587.pdf'\n",
    "df = extract_ticket_info(pdf_path)"
   ]
  },
  {
   "cell_type": "code",
   "execution_count": 7,
   "id": "9822a4a7-6216-4e57-adab-a17e4e67c417",
   "metadata": {},
   "outputs": [
    {
     "data": {
      "text/html": [
       "<div>\n",
       "<style scoped>\n",
       "    .dataframe tbody tr th:only-of-type {\n",
       "        vertical-align: middle;\n",
       "    }\n",
       "\n",
       "    .dataframe tbody tr th {\n",
       "        vertical-align: top;\n",
       "    }\n",
       "\n",
       "    .dataframe thead th {\n",
       "        text-align: right;\n",
       "    }\n",
       "</style>\n",
       "<table border=\"1\" class=\"dataframe\">\n",
       "  <thead>\n",
       "    <tr style=\"text-align: right;\">\n",
       "      <th></th>\n",
       "      <th>Travel Date</th>\n",
       "      <th>departure</th>\n",
       "      <th>destination</th>\n",
       "      <th>Cost</th>\n",
       "    </tr>\n",
       "  </thead>\n",
       "  <tbody>\n",
       "  </tbody>\n",
       "</table>\n",
       "</div>"
      ],
      "text/plain": [
       "Empty DataFrame\n",
       "Columns: [Travel Date, departure, destination, Cost]\n",
       "Index: []"
      ]
     },
     "execution_count": 7,
     "metadata": {},
     "output_type": "execute_result"
    }
   ],
   "source": [
    "data = []\n",
    "df = pd.DataFrame(data, columns=['Travel Date', 'departure', 'destination', 'Cost'])\n",
    "df"
   ]
  },
  {
   "cell_type": "code",
   "execution_count": 11,
   "id": "f0801883-8575-4daa-bf33-45f9d04ee0b9",
   "metadata": {},
   "outputs": [
    {
     "data": {
      "text/html": [
       "<div>\n",
       "<style scoped>\n",
       "    .dataframe tbody tr th:only-of-type {\n",
       "        vertical-align: middle;\n",
       "    }\n",
       "\n",
       "    .dataframe tbody tr th {\n",
       "        vertical-align: top;\n",
       "    }\n",
       "\n",
       "    .dataframe thead th {\n",
       "        text-align: right;\n",
       "    }\n",
       "</style>\n",
       "<table border=\"1\" class=\"dataframe\">\n",
       "  <thead>\n",
       "    <tr style=\"text-align: right;\">\n",
       "      <th></th>\n",
       "      <th>Travel Date</th>\n",
       "      <th>departure</th>\n",
       "      <th>destination</th>\n",
       "      <th>Cost</th>\n",
       "    </tr>\n",
       "  </thead>\n",
       "  <tbody>\n",
       "    <tr>\n",
       "      <th>0</th>\n",
       "      <td>18.10.24</td>\n",
       "      <td>SALZBURG HBF</td>\n",
       "      <td>VILLACH HBF</td>\n",
       "      <td>34,90</td>\n",
       "    </tr>\n",
       "  </tbody>\n",
       "</table>\n",
       "</div>"
      ],
      "text/plain": [
       "  Travel Date     departure  destination   Cost\n",
       "0    18.10.24  SALZBURG HBF  VILLACH HBF  34,90"
      ]
     },
     "execution_count": 11,
     "metadata": {},
     "output_type": "execute_result"
    }
   ],
   "source": [
    "with pdfplumber.open(pdf_path) as pdf:\n",
    "    for page in pdf.pages:\n",
    "        text = page.extract_text()\n",
    "        if text:\n",
    "            match = re.search(r'\\nHF (\\d{2}.\\d{2}.\\d{2})\\nDATUM', text, re.DOTALL)\n",
    "            if match:\n",
    "                travel_date = match.group(1)\n",
    "            \n",
    "            match = re.search(\n",
    "                r'DATUM ZEIT VON -> NACH DATUM ZEIT KLASSE\\n\\d{2}\\.\\d{2} \\d{2}:\\d{2} (.*?) -> (.*?) \\d{2}\\.\\d{2} \\d{2}:\\d{2}',\n",
    "                text, re.DOTALL)\n",
    "            if match:\n",
    "                departure = match.group(1)  \n",
    "                destination = match.group(2)  \n",
    "    \n",
    "            match = re.search(r'\\nPREIS EUR (.*?)\\nZug', text, re.DOTALL)\n",
    "            if match:\n",
    "                cost = match.group(1)\n",
    "                \n",
    "df.loc[0] = [travel_date ,departure, destination ,  cost]\n",
    "df"
   ]
  },
  {
   "cell_type": "code",
   "execution_count": 6,
   "id": "27f02026-df8a-4609-ba96-1a4017590b5c",
   "metadata": {},
   "outputs": [
    {
     "data": {
      "text/plain": [
       "'FAHRSCHEIN Wang Yun\\n01 ERWACHSENER\\nZugbindung\\nCIV 1181\\nHF 18.10.24\\nDATUM ZEIT VON -> NACH DATUM ZEIT KLASSE\\n18.10 12:12 SALZBURG HBF -> VILLACH HBF 18.10 14:44 1\\n* * * -> * * * *\\nÜBER --> <1181> HALLEIN * SPITTAL-MILLSTSEE\\n01 Sparschiene Berechtigt nicht zum Vorsteuerabzug\\nPREIS EUR 34,90\\nZug -> RJ 596\\nINKL. UST.:\\nKEIN UMTAUSCH / KEINE ERSTATTUNG CRE AT:10% EUR 3,17\\n530801\\n181024 11:58 9505 03\\nWurde bezahlt mittels Kreditkarte mit der Nummer xxxxxxxxxxxx5792.\\nHinfahrt: Dauer: 2:32\\nHaltestelle Datum Zeit Verkehrsmittel\\nZangenabdruck\\nSalzburg Hbf 18.10.2024 12:12 RJ 596\\nVillach Hbf 18.10.2024 14:44\\nIn Österreich akzeptieren wir Ihr PDF-\\nTicket digital (Anzeige auf Laptop, Tablet,\\nSmartphone). Grenzüberschreitend\\ndrucken Sie dieses bitte auf weißem\\nPapier A4 Hochformat aus. Wir benötigen\\nfür die Kontrolle Ihren Lichtbildausweis.\\nBitte behalten Sie Ihr Ticket bis zum\\nVerlassen Ihrer Ausstiegsstation.\\nEs gilt der Tarif des genutzten\\nVerkehrsunternehmens. Tarife sowie Infos über\\nFahrgastrechte sind unter\\nwww.oebb.at und bei ÖBB-Verkaufsstellen\\neinsehbar. Alle Informationen erhalten\\nSie auch im ÖBB-Kundenservice 05-1717\\n(österreichweit zum Ortstarif). Aktuelle\\nStreckeninformationen für Ihre Fahrt finden\\nSie auf www.streckeninfo.oebb.at.\\nCode bitte nicht knicken /\\nDo not fold the ticketcode\\nIhre CO -Ersparnis: 38,6 kg\\n2\\nfür Ihre Bahnfahrt pro Person, im Vergleich zum PKW. Bahn benützen, Klima schützen.\\nTicketcode 2462 2248 6218 3609 zur Buchung 0013 4784 9934 9604\\nFAHRSCHEIN . . Gültig für eine Fahrt am Fr, 18. Okt 2024 . Abfahrt am 18.10.2024 um 12:12 Uhr . Von SALZBURG HBF. . Von Bahnsteig 6A-C . Nach VILLACH HBF . Ankunft am 18.10.2024 um . 14:44 Uhr . Auf Bahnsteig 4 . Über: <1181> Hallein . Spittal-Millstsee . erste Klasse. . für Ihre Verbindung RJ 596 .. Zugbindung .. kein Umtausch / keine Erstattung . für Yun Wang, . 1 Erwachsener . . Ihr Ticketcode lautet: 2462./.. 224./..8 62./..18 3./..609./.. zur Buchung: 0013./.. 478./..4 99./..34 9./..604./.. . Preis: 34,90 Euro. . Inklusive Mehrwertsteuer: AT:10% 3,17 Euro. . . . Wurde bezahlt mittels Kreditkarte mit der Nummer xxxxxxxxxxxx5792.... Berechtigt nicht zum Vorsteuerabzug. Änderungen im Fahrplan sind möglich, die aktuellen Abfahrtszeiten finden sie auf https://tickets.oebb.at oder in der ÖBB App. . Ihre C O2-Ersparnis beträgt 38,6 kg für Ihre Bahnfahrt pro Person, im Vergleich zum PKW. Bahn benützen, Klima schützen. . In Österreich akzeptieren wir Ihr PDF-Ticket digital (Anzeige auf Laptop, Tablet, Smartphone). Grenzüberschreitend drucken Sie dieses bitte auf weißem Papier A4 Hochformat aus. Wir benötigen für die Kontrolle Ihren Lichtbildausweis. Bitte behalten Sie Ihr Ticket bis zum Verlassen Ihrer Ausstiegsstation. Es gilt der Tarif des genutzten Verkehrsunternehmens. Tarife sowie Infos über Fahrgastrechte sind unter www.oebb.at und bei ÖBB-Verkaufsstellen einsehbar. Alle Informationen erhalten Sie auch im ÖBB-Kundenservice 05-1717 (österreichweit zum Ortstarif). Aktuelle Streckeninformationen für Ihre Fahrt finden Sie auf www.streckeninfo.oebb.at. .'"
      ]
     },
     "execution_count": 6,
     "metadata": {},
     "output_type": "execute_result"
    }
   ],
   "source": [
    "text"
   ]
  },
  {
   "cell_type": "code",
   "execution_count": null,
   "id": "e1b89268-9d76-40b2-a740-c4a33ef59052",
   "metadata": {},
   "outputs": [],
   "source": []
  },
  {
   "cell_type": "code",
   "execution_count": null,
   "id": "cab7c7c7-ac4e-4550-8262-6e3f057569d2",
   "metadata": {},
   "outputs": [],
   "source": []
  },
  {
   "cell_type": "code",
   "execution_count": 19,
   "id": "0ffac75f-fa17-40c8-94b5-9787a60a2e68",
   "metadata": {},
   "outputs": [],
   "source": [
    "def extract_ticket_info_from_folder(folder_path, output_file):\n",
    "    data = []\n",
    "    \n",
    "    # Loop through all PDF files in the folder\n",
    "    for file_name in os.listdir(folder_path):\n",
    "        if file_name.endswith('.pdf'):  # Process only PDF files\n",
    "            pdf_path = os.path.join(folder_path, file_name)\n",
    "            with pdfplumber.open(pdf_path) as pdf:\n",
    "                for page in pdf.pages:\n",
    "                    text = page.extract_text()\n",
    "                    if text:\n",
    "                        # Extract travel date\n",
    "                        travel_date_match = re.search(r'\\nHF (\\d{2}.\\d{2}.\\d{2})\\nDATUM', text)\n",
    "                        travel_date = travel_date_match.group(1) if travel_date_match else 'N/A'\n",
    "\n",
    "                        # Extract train information\n",
    "                        train_match = re.search(r'DATUM ZEIT VON -> NACH DATUM ZEIT KLASSE\\n\\d{2}\\.\\d{2} \\d{2}:\\d{2} (.*?) -> (.*?) \\d{2}\\.\\d{2} \\d{2}:\\d{2}', text, re.DOTALL)\n",
    "                        departure = train_match.group(1).strip() if train_match else 'N/A'\n",
    "                        destination = train_match.group(2).strip() if train_match else 'N/A'\n",
    "\n",
    "                        # Extract cost\n",
    "                        cost_match = re.search(r'\\nPREIS EUR (.*?)\\nZug', text, re.DOTALL)\n",
    "                        cost = cost_match.group(1).strip() if cost_match else 'N/A'\n",
    "\n",
    "                        # Append extracted info to the data list\n",
    "                        data.append({\n",
    "                            'Travel Date': travel_date,\n",
    "                            'Departure': departure,\n",
    "                            'Destination': destination,\n",
    "                            'Cost (€)': cost,\n",
    "                            'File Name': file_name  # Include file name for traceability\n",
    "                        })\n",
    "\n",
    "    # Convert the data into a DataFrame\n",
    "    df = pd.DataFrame(data, columns=['Travel Date', 'Departure','Destination', 'Cost (€)', 'File Name'])\n",
    "\n",
    "    # Save the DataFrame to an Excel file\n",
    "    df.to_excel(output_file, index=False)\n",
    "    return df"
   ]
  },
  {
   "cell_type": "code",
   "execution_count": 20,
   "id": "37e91092-d4cf-4b83-8420-caf69748b633",
   "metadata": {},
   "outputs": [
    {
     "data": {
      "text/plain": [
       "'C:\\\\Users\\\\freed\\\\develop\\\\DB_OEBB_ticket'"
      ]
     },
     "execution_count": 20,
     "metadata": {},
     "output_type": "execute_result"
    }
   ],
   "source": [
    "cwd = os.getcwd()\n",
    "cwd"
   ]
  },
  {
   "cell_type": "code",
   "execution_count": 21,
   "id": "3664d9a2-e2bc-4097-b17f-0978e3922b38",
   "metadata": {},
   "outputs": [],
   "source": [
    "# Example usage\n",
    "folder_path = 'C:\\\\Users\\\\freed\\\\develop\\\\DB_OEBB_ticket\\\\ÖBB'  # Replace with the path to your folder\n",
    "output_file = 'train_ticket_Oebb.xlsx'  # Replace with your desired output file name\n",
    "df = extract_ticket_info_from_folder(folder_path, output_file)\n"
   ]
  },
  {
   "cell_type": "code",
   "execution_count": null,
   "id": "0ef29752-91dc-4feb-93e3-110abdf2e110",
   "metadata": {},
   "outputs": [],
   "source": []
  }
 ],
 "metadata": {
  "jupytext": {
   "cell_markers": "{{{,}}}"
  },
  "kernelspec": {
   "display_name": "Python 3 (ipykernel)",
   "language": "python",
   "name": "python3"
  },
  "language_info": {
   "codemirror_mode": {
    "name": "ipython",
    "version": 3
   },
   "file_extension": ".py",
   "mimetype": "text/x-python",
   "name": "python",
   "nbconvert_exporter": "python",
   "pygments_lexer": "ipython3",
   "version": "3.12.7"
  }
 },
 "nbformat": 4,
 "nbformat_minor": 5
}
