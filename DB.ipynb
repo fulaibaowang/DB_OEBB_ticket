{
 "cells": [
  {
   "cell_type": "code",
   "execution_count": 1,
   "id": "f11a5202-e00c-4517-87ef-e7abd640021a",
   "metadata": {
    "tags": []
   },
   "outputs": [],
   "source": [
    "import pdfplumber\n",
    "import re\n",
    "import pandas as pd\n",
    "import os\n",
    "import argparse\n"
   ]
  },
  {
   "cell_type": "code",
   "execution_count": 13,
   "id": "aa1d69d5-488a-4b57-8adb-152f1954712f",
   "metadata": {},
   "outputs": [],
   "source": [
    "def extract_ticket_info(pdf_path):\n",
    "    data = []\n",
    "    with pdfplumber.open(pdf_path) as pdf:\n",
    "        for page in pdf.pages:\n",
    "            text = page.extract_text()\n",
    "            if text:\n",
    "                departure_location = re.search(r'Hinfahrt:\\n(?:Gültig ab: .+)?\\n([^,]+),', text)\n",
    "                arrival_location = re.search(r'Freiburg\\(Breisgau\\) Hbf', text)\n",
    "                departure_time = re.search(r'Halt Datum Zeit Gleis Produkte Reservierung\\n([^ ]+ \\d{2}:\\d{2})', text)\n",
    "                arrival_time = re.search(r'Freiburg\\(Breisgau\\) Hbf .+ \\d{2}:\\d{2}', text)\n",
    "                cost = re.search(r'ICE Fahrkarte .+ (\\d+,\\d{2}€)', text)\n",
    "                \n",
    "                if departure_location and arrival_location and departure_time and arrival_time and cost:\n",
    "                    data.append({\n",
    "                        'Departure Location': departure_location.group(1),\n",
    "                        'Arrival Location': arrival_location.group(0),\n",
    "                        'Departure Time': departure_time.group(1),\n",
    "                        'Arrival Time': arrival_time.group(0).split()[-1],\n",
    "                        'Cost': cost.group(1)\n",
    "                    })\n",
    "\n",
    "    df = pd.DataFrame(data)\n",
    "    return df"
   ]
  },
  {
   "cell_type": "code",
   "execution_count": 14,
   "id": "0b8cc121-0a99-466e-96ad-cf3d0b8f92c7",
   "metadata": {},
   "outputs": [],
   "source": [
    "pdf_path = 'C:\\\\Users\\\\freed\\\\develop\\\\DB_OEBB_ticket\\\\new_ticket\\\\Ticket_298345646706_13.11.2024.pdf'\n",
    "df = extract_ticket_info(pdf_path)"
   ]
  },
  {
   "cell_type": "code",
   "execution_count": 15,
   "id": "9822a4a7-6216-4e57-adab-a17e4e67c417",
   "metadata": {},
   "outputs": [
    {
     "data": {
      "text/html": [
       "<div>\n",
       "<style scoped>\n",
       "    .dataframe tbody tr th:only-of-type {\n",
       "        vertical-align: middle;\n",
       "    }\n",
       "\n",
       "    .dataframe tbody tr th {\n",
       "        vertical-align: top;\n",
       "    }\n",
       "\n",
       "    .dataframe thead th {\n",
       "        text-align: right;\n",
       "    }\n",
       "</style>\n",
       "<table border=\"1\" class=\"dataframe\">\n",
       "  <thead>\n",
       "    <tr style=\"text-align: right;\">\n",
       "      <th></th>\n",
       "      <th>Travel Date</th>\n",
       "      <th>Train</th>\n",
       "      <th>Cost</th>\n",
       "    </tr>\n",
       "  </thead>\n",
       "  <tbody>\n",
       "  </tbody>\n",
       "</table>\n",
       "</div>"
      ],
      "text/plain": [
       "Empty DataFrame\n",
       "Columns: [Travel Date, Train, Cost]\n",
       "Index: []"
      ]
     },
     "execution_count": 15,
     "metadata": {},
     "output_type": "execute_result"
    }
   ],
   "source": [
    "data = []\n",
    "df = pd.DataFrame(data, columns=['Travel Date', 'Train', 'Cost'])\n",
    "df"
   ]
  },
  {
   "cell_type": "code",
   "execution_count": 16,
   "id": "f0801883-8575-4daa-bf33-45f9d04ee0b9",
   "metadata": {},
   "outputs": [
    {
     "data": {
      "text/html": [
       "<div>\n",
       "<style scoped>\n",
       "    .dataframe tbody tr th:only-of-type {\n",
       "        vertical-align: middle;\n",
       "    }\n",
       "\n",
       "    .dataframe tbody tr th {\n",
       "        vertical-align: top;\n",
       "    }\n",
       "\n",
       "    .dataframe thead th {\n",
       "        text-align: right;\n",
       "    }\n",
       "</style>\n",
       "<table border=\"1\" class=\"dataframe\">\n",
       "  <thead>\n",
       "    <tr style=\"text-align: right;\">\n",
       "      <th></th>\n",
       "      <th>Travel Date</th>\n",
       "      <th>Train</th>\n",
       "      <th>Cost</th>\n",
       "    </tr>\n",
       "  </thead>\n",
       "  <tbody>\n",
       "    <tr>\n",
       "      <th>0</th>\n",
       "      <td>13.11.2024</td>\n",
       "      <td>Köln Hbf Villach Hbf</td>\n",
       "      <td>86,43</td>\n",
       "    </tr>\n",
       "  </tbody>\n",
       "</table>\n",
       "</div>"
      ],
      "text/plain": [
       "  Travel Date                 Train    Cost\n",
       "0  13.11.2024  Köln Hbf Villach Hbf  86,43 "
      ]
     },
     "execution_count": 16,
     "metadata": {},
     "output_type": "execute_result"
    }
   ],
   "source": [
    "with pdfplumber.open(pdf_path) as pdf:\n",
    "    for page in pdf.pages:\n",
    "        text = page.extract_text()\n",
    "        if text:\n",
    "            match = re.search(r'e\\nGültigkeit: (\\d{2}.\\d{2}.\\d{4}) 00:00 Uhr', text)\n",
    "            if match:\n",
    "                travel_date = match.group(1)\n",
    "            \n",
    "            match = re.search(r'\\nEinfache Fahrt (.*?)\\nVia:', text)\n",
    "            if match:\n",
    "                train = match.group(1)\n",
    "            \n",
    "            match = re.search(r'\\nGesamtpreis (.*?)€', text, re.DOTALL)\n",
    "            if match:\n",
    "                cost = match.group(1)\n",
    "                \n",
    "df.loc[0] = [travel_date , train ,  cost]\n",
    "df"
   ]
  },
  {
   "cell_type": "code",
   "execution_count": 17,
   "id": "27f02026-df8a-4609-ba96-1a4017590b5c",
   "metadata": {},
   "outputs": [
    {
     "data": {
      "text/plain": [
       "'Online-Ticket\\nCIV 1080\\nICE Fahrkarte\\nGültigkeit: 13.11.2024 00:00 Uhr bis 15.11.2024 03:00 Uhr\\nSie können alle Züge nutzen, die auf Ihrer Fahrkarte angegeben sind. Für Züge des Nahverkehrs\\n(z.B. RE, RB, S) besteht keine Zugbindung.\\nSparpreis Europa (Einfache Fahrt)\\nKlasse 2.Klasse\\nReisende 1 Person (27-64 Jahre) mit 1 BC25 (32 Jahre)\\n1 Fahrrad\\nEinfache Fahrt Köln Hbf Villach Hbf\\nVia: <1080>KO*(F*WUE*N/KA*S*UL)*M*SALZ\\n<1181>Hallein*Spittal-Millstsee\\nZugbindung ICE 1621, 07:53 Uhr am 13.11.2024\\nEC 115, 14:17 Uhr am 13.11.2024\\nEC 115, 16:12 Uhr am 13.11.2024\\nSie können Ihre Fahrkarte bis einschließlich 12.11.2024 gegen 10,00 € Entgelt stornieren. Über den\\nverbleibenden Betrag erhalten Sie einen Gutschein. Danach ist eine Stornierung ausgeschlossen.\\nGesamtpreis 86,43 €. Gebucht am 26.10.2024 um 10:11 Uhr.\\nDieses Dokument ist nicht vorsteuerabzugsfähig.\\n!nekcink\\nthcin\\nettib\\nedocraB\\nZangenabdruck\\nJohn Doe\\nAuftragsnummer: 298345646706\\nIhre Reiseverbindung und Reservierung - Einfache Fahrt am 13.11.2024\\nHalt Datum Zeit Gleis Produkte Reservierung / Hinweise\\nKöln Hbf 13.11. ab 07:53 7 D-G ICE 1621 1 Fahrrad, Wg. 24, Pl. 101, 1 Fenster, Res.-Nr.\\nMünchen Hbf 13.11. an 13:42 19 803710046798\\nMünchen Hbf 13.11. ab 14:17 12 EC 115 1 Fahrrad, Wg. 262, Pl. 141, 1 Fenster, Res.-Nr.\\nVillach Hbf 13.11. an 18:44 4 890138904083\\nWichtige Nutzungshinweise:\\n-Ihre Fahrkarte ist nur gültig mit einem amtlichen Lichtbildausweis. Dieser ist bei der Kontrolle vorzuzeigen.\\n-Bei Fahrkarten mit BahnCard-Rabatt zeigen Sie bitte zusätzlich Ihre gültige BahnCard vor.\\n-Es gelten die nationalen und internationalen Beförderungsbedingungen der DB AG. Innerhalb von\\nVerkehrsverbünden und Tarifgemeinschaften gelten deren Bestimmungen. Alle Bedingungen finden Sie unter\\nwww.bahn.de/agb und www.diebefoerderer.de.\\n-Eine Fahrkarte entspricht grundsätzlich einem Beförderungsvertrag, mehrere Fahrkarten mehreren\\nBeförderungsverträgen. Vertraglicher Beförderer können dabei ein oder mehrere Verkehrsunternehmen sein. Es\\nhandelt sich bei dieser Fahrkarte um eine Durchgangsfahrkarte gemäß Europäischer Fahrgastrechte-Verordnung\\nfür den Eisenbahnverkehr.\\n-Kleinkindabteile sind bei Bedarf für diese Personengruppe zu räumen.\\nBitte informieren Sie sich kurz vor Reisebeginn auf unserer Website oder in der App, ob kurzfristige Fahrplanänderungen vorliegen. Wir\\ndanken Ihnen für Ihre Buchung und wünschen eine angenehme Reise.\\nTicketcode: 77E9NVWD Seite 1 / 1'"
      ]
     },
     "execution_count": 17,
     "metadata": {},
     "output_type": "execute_result"
    }
   ],
   "source": [
    "text"
   ]
  },
  {
   "cell_type": "code",
   "execution_count": null,
   "id": "e1b89268-9d76-40b2-a740-c4a33ef59052",
   "metadata": {},
   "outputs": [],
   "source": []
  },
  {
   "cell_type": "code",
   "execution_count": null,
   "id": "cab7c7c7-ac4e-4550-8262-6e3f057569d2",
   "metadata": {},
   "outputs": [],
   "source": []
  },
  {
   "cell_type": "code",
   "execution_count": 18,
   "id": "0ffac75f-fa17-40c8-94b5-9787a60a2e68",
   "metadata": {},
   "outputs": [],
   "source": [
    "def extract_ticket_info_from_folder(folder_path, output_file):\n",
    "    data = []\n",
    "    \n",
    "    # Loop through all PDF files in the folder\n",
    "    for file_name in os.listdir(folder_path):\n",
    "        if file_name.endswith('.pdf'):  # Process only PDF files\n",
    "            pdf_path = os.path.join(folder_path, file_name)\n",
    "            with pdfplumber.open(pdf_path) as pdf:\n",
    "                for page in pdf.pages:\n",
    "                    text = page.extract_text()\n",
    "                    if text:\n",
    "                        # Extract travel date\n",
    "                        travel_date_match = re.search(r'\\nGültigkeit: (\\d{2}.\\d{2}.\\d{4}) 00:00 Uhr', text)\n",
    "                        travel_date = travel_date_match.group(1) if travel_date_match else 'N/A'\n",
    "\n",
    "                        # Extract train information\n",
    "                        train_match = re.search(r'\\nEinfache Fahrt (.*?)\\nVia:', text, re.DOTALL)\n",
    "                        train = train_match.group(1).strip() if train_match else 'N/A'\n",
    "\n",
    "                        # Extract cost\n",
    "                        cost_match = re.search(r'\\nGesamtpreis (.*?)€', text, re.DOTALL)\n",
    "                        cost = cost_match.group(1).strip() if cost_match else 'N/A'\n",
    "\n",
    "                        # Extract Auftragsnummer\n",
    "                        auftragsnummer_match = re.search(r'\\nAuftragsnummer: (.*?)\\nIhre', text)\n",
    "                        auftragsnummer = auftragsnummer_match.group(1).strip() if auftragsnummer_match else 'N/A'\n",
    "\n",
    "                        # Append extracted info to the data list\n",
    "                        data.append({\n",
    "                            'Travel Date': travel_date,\n",
    "                            'Train': train,\n",
    "                            'Cost (€)': cost,\n",
    "                            'Auftragsnummer': auftragsnummer,\n",
    "                            'File Name': file_name  # Include file name for traceability\n",
    "                        })\n",
    "\n",
    "    # Convert the data into a DataFrame\n",
    "    df = pd.DataFrame(data, columns=['Travel Date', 'Train', 'Cost (€)', 'Auftragsnummer', 'File Name'])\n",
    "\n",
    "    # Save the DataFrame to an Excel file\n",
    "    df.to_excel(output_file, index=False)\n",
    "    return df"
   ]
  },
  {
   "cell_type": "code",
   "execution_count": 19,
   "id": "37e91092-d4cf-4b83-8420-caf69748b633",
   "metadata": {},
   "outputs": [
    {
     "data": {
      "text/plain": [
       "'C:\\\\Users\\\\freed\\\\develop\\\\DB_OEBB_ticket'"
      ]
     },
     "execution_count": 19,
     "metadata": {},
     "output_type": "execute_result"
    }
   ],
   "source": [
    "cwd = os.getcwd()\n",
    "cwd"
   ]
  },
  {
   "cell_type": "code",
   "execution_count": 20,
   "id": "3664d9a2-e2bc-4097-b17f-0978e3922b38",
   "metadata": {},
   "outputs": [],
   "source": [
    "# Example usage\n",
    "folder_path = 'C:\\\\Users\\\\freed\\\\develop\\\\DB_OEBB_ticket\\\\new_ticket'  # Replace with the path to your folder\n",
    "output_file = 'train_ticket_summary_new_ticket.xlsx'  # Replace with your desired output file name\n",
    "df = extract_ticket_info_from_folder(folder_path, output_file)\n"
   ]
  },
  {
   "cell_type": "code",
   "execution_count": null,
   "id": "0ef29752-91dc-4feb-93e3-110abdf2e110",
   "metadata": {},
   "outputs": [],
   "source": []
  }
 ],
 "metadata": {
  "jupytext": {
   "cell_markers": "{{{,}}}"
  },
  "kernelspec": {
   "display_name": "Python 3 (ipykernel)",
   "language": "python",
   "name": "python3"
  },
  "language_info": {
   "codemirror_mode": {
    "name": "ipython",
    "version": 3
   },
   "file_extension": ".py",
   "mimetype": "text/x-python",
   "name": "python",
   "nbconvert_exporter": "python",
   "pygments_lexer": "ipython3",
   "version": "3.12.7"
  }
 },
 "nbformat": 4,
 "nbformat_minor": 5
}
