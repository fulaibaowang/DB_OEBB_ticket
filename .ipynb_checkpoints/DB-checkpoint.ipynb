{
 "cells": [
  {
   "cell_type": "code",
   "execution_count": 1,
   "id": "0bfb153e-c9b9-4aac-ba49-b879d849edc3",
   "metadata": {
    "tags": []
   },
   "outputs": [
    {
     "name": "stdout",
     "output_type": "stream",
     "text": [
      "Defaulting to user installation because normal site-packages is not writeable\n",
      "Collecting pdfplumber\n",
      "  Downloading pdfplumber-0.11.1-py3-none-any.whl.metadata (39 kB)\n",
      "Collecting pdfminer.six==20231228 (from pdfplumber)\n",
      "  Downloading pdfminer.six-20231228-py3-none-any.whl.metadata (4.2 kB)\n",
      "Requirement already satisfied: Pillow>=9.1 in /nexus/posix0/MAGE-flaski/service/posit/home/wangy/.jupyter/python/3.10/lib/python3.10/site-packages (from pdfplumber) (9.5.0)\n",
      "Collecting pypdfium2>=4.18.0 (from pdfplumber)\n",
      "  Downloading pypdfium2-4.30.0-py3-none-manylinux_2_17_x86_64.manylinux2014_x86_64.whl.metadata (48 kB)\n",
      "\u001b[2K     \u001b[90m━━━━━━━━━━━━━━━━━━━━━━━━━━━━━━━━━━━━━━━━\u001b[0m \u001b[32m48.5/48.5 kB\u001b[0m \u001b[31m1.3 MB/s\u001b[0m eta \u001b[36m0:00:00\u001b[0m\n",
      "\u001b[?25hRequirement already satisfied: charset-normalizer>=2.0.0 in /opt/python/3.10.8/lib/python3.10/site-packages (from pdfminer.six==20231228->pdfplumber) (3.3.2)\n",
      "Requirement already satisfied: cryptography>=36.0.0 in /opt/python/3.10.8/lib/python3.10/site-packages (from pdfminer.six==20231228->pdfplumber) (42.0.7)\n",
      "Requirement already satisfied: cffi>=1.12 in /opt/python/3.10.8/lib/python3.10/site-packages (from cryptography>=36.0.0->pdfminer.six==20231228->pdfplumber) (1.16.0)\n",
      "Requirement already satisfied: pycparser in /opt/python/3.10.8/lib/python3.10/site-packages (from cffi>=1.12->cryptography>=36.0.0->pdfminer.six==20231228->pdfplumber) (2.22)\n",
      "Downloading pdfplumber-0.11.1-py3-none-any.whl (57 kB)\n",
      "\u001b[2K   \u001b[90m━━━━━━━━━━━━━━━━━━━━━━━━━━━━━━━━━━━━━━━━\u001b[0m \u001b[32m57.9/57.9 kB\u001b[0m \u001b[31m1.7 MB/s\u001b[0m eta \u001b[36m0:00:00\u001b[0m\n",
      "\u001b[?25hDownloading pdfminer.six-20231228-py3-none-any.whl (5.6 MB)\n",
      "\u001b[2K   \u001b[90m━━━━━━━━━━━━━━━━━━━━━━━━━━━━━━━━━━━━━━━━\u001b[0m \u001b[32m5.6/5.6 MB\u001b[0m \u001b[31m13.9 MB/s\u001b[0m eta \u001b[36m0:00:00\u001b[0m00:01\u001b[0m00:01\u001b[0m\n",
      "\u001b[?25hDownloading pypdfium2-4.30.0-py3-none-manylinux_2_17_x86_64.manylinux2014_x86_64.whl (2.8 MB)\n",
      "\u001b[2K   \u001b[90m━━━━━━━━━━━━━━━━━━━━━━━━━━━━━━━━━━━━━━━━\u001b[0m \u001b[32m2.8/2.8 MB\u001b[0m \u001b[31m23.2 MB/s\u001b[0m eta \u001b[36m0:00:00\u001b[0m00:01\u001b[0m00:01\u001b[0m\n",
      "\u001b[?25hInstalling collected packages: pypdfium2, pdfminer.six, pdfplumber\n",
      "Successfully installed pdfminer.six-20231228 pdfplumber-0.11.1 pypdfium2-4.30.0\n"
     ]
    }
   ],
   "source": [
    "!pip3 install pdfplumber\n"
   ]
  },
  {
   "cell_type": "code",
   "execution_count": 34,
   "id": "f11a5202-e00c-4517-87ef-e7abd640021a",
   "metadata": {
    "tags": []
   },
   "outputs": [],
   "source": [
    "import pdfplumber\n",
    "import re\n",
    "import pandas as pd\n",
    "import os\n",
    "import argparse\n"
   ]
  },
  {
   "cell_type": "code",
   "execution_count": 30,
   "id": "0ffac75f-fa17-40c8-94b5-9787a60a2e68",
   "metadata": {},
   "outputs": [],
   "source": [
    "def extract_ticket_info_from_folder(folder_path, output_file):\n",
    "    data = []\n",
    "    \n",
    "    # Loop through all PDF files in the folder\n",
    "    for file_name in os.listdir(folder_path):\n",
    "        if file_name.endswith('.pdf'):  # Process only PDF files\n",
    "            pdf_path = os.path.join(folder_path, file_name)\n",
    "            with pdfplumber.open(pdf_path) as pdf:\n",
    "                for page in pdf.pages:\n",
    "                    text = page.extract_text()\n",
    "                    if text:\n",
    "                        # Extract travel date\n",
    "                        travel_date_match = re.search(r'Fahrtantritt am (\\d{2}.\\d{2}.\\d{4})\\n', text)\n",
    "                        travel_date = travel_date_match.group(1) if travel_date_match else 'N/A'\n",
    "\n",
    "                        # Extract train information\n",
    "                        train_match = re.search(r'Hinfahrt:(.*?)\\nÜber:', text, re.DOTALL)\n",
    "                        train = train_match.group(1).strip() if train_match else 'N/A'\n",
    "\n",
    "                        # Extract cost\n",
    "                        cost_match = re.search(r'\\nSumme (.*?)€', text, re.DOTALL)\n",
    "                        cost = cost_match.group(1).strip() if cost_match else 'N/A'\n",
    "\n",
    "                        # Extract Auftragsnummer\n",
    "                        auftragsnummer_match = re.search(r'\\nAuftragsnummer: (.*?)\\nIhre', text)\n",
    "                        auftragsnummer = auftragsnummer_match.group(1).strip() if auftragsnummer_match else 'N/A'\n",
    "\n",
    "                        # Append extracted info to the data list\n",
    "                        data.append({\n",
    "                            'Travel Date': travel_date,\n",
    "                            'Train': train,\n",
    "                            'Cost (€)': cost,\n",
    "                            'Auftragsnummer': auftragsnummer,\n",
    "                            'File Name': file_name  # Include file name for traceability\n",
    "                        })\n",
    "\n",
    "    # Convert the data into a DataFrame\n",
    "    df = pd.DataFrame(data, columns=['Travel Date', 'Train', 'Cost (€)', 'Auftragsnummer', 'File Name'])\n",
    "\n",
    "    # Save the DataFrame to an Excel file\n",
    "    df.to_excel(output_file, index=False)\n",
    "    return df"
   ]
  },
  {
   "cell_type": "code",
   "execution_count": 31,
   "id": "37e91092-d4cf-4b83-8420-caf69748b633",
   "metadata": {},
   "outputs": [
    {
     "data": {
      "text/plain": [
       "'C:\\\\Users\\\\freed\\\\develop\\\\DB_OEBB_ticket'"
      ]
     },
     "execution_count": 31,
     "metadata": {},
     "output_type": "execute_result"
    }
   ],
   "source": [
    "cwd = os.getcwd()\n",
    "cwd"
   ]
  },
  {
   "cell_type": "code",
   "execution_count": 33,
   "id": "3664d9a2-e2bc-4097-b17f-0978e3922b38",
   "metadata": {},
   "outputs": [],
   "source": [
    "# Example usage\n",
    "folder_path = 'C:\\\\Users\\\\freed\\\\develop\\\\DB_OEBB_ticket\\\\old_ticket'  # Replace with the path to your folder\n",
    "output_file = 'train_ticket_summary_old_ticket.xlsx'  # Replace with your desired output file name\n",
    "df = extract_ticket_info_from_folder(folder_path, output_file)\n"
   ]
  },
  {
   "cell_type": "code",
   "execution_count": null,
   "id": "0ef29752-91dc-4feb-93e3-110abdf2e110",
   "metadata": {},
   "outputs": [],
   "source": []
  }
 ],
 "metadata": {
  "jupytext": {
   "cell_markers": "{{{,}}}"
  },
  "kernelspec": {
   "display_name": "Python 3 (ipykernel)",
   "language": "python",
   "name": "python3"
  },
  "language_info": {
   "codemirror_mode": {
    "name": "ipython",
    "version": 3
   },
   "file_extension": ".py",
   "mimetype": "text/x-python",
   "name": "python",
   "nbconvert_exporter": "python",
   "pygments_lexer": "ipython3",
   "version": "3.12.7"
  }
 },
 "nbformat": 4,
 "nbformat_minor": 5
}
